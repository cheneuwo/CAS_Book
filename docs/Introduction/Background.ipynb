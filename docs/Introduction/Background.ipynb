{
 "cells": [
  {
   "cell_type": "markdown",
   "id": "e2699097",
   "metadata": {},
   "source": [
    "# Introduction\n",
    "\n",
    "Computer-integrated interventional medicine is an interdisciplinary research area where computerized techniques are applied to every aspect of interventional medicine. A close analogy is the design and manufacturing of an automobile: computer software is used in the creation, modification, analysis, and optimization of surgical approaches, and computer software and mechatronics are used to control and automate the execution of these surgical maneuvers. In other words, computer-integrated interventional medicine is the application of **Computer Aided Design** (CAD), **Computer Aided Manufacturing** (CAM), and **Quality Control** to interventional medicine.\n",
    "\n",
    "```{image} ./../images/I4M_Data_Flow.png\n",
    ":alt: Computer Assisted Surgery as CAD/CAM\n",
    ":class: bg-primary mb-1\n",
    ":width: 600px\n",
    ":align: center\n",
    "```\n",
    "\n",
    "Image courtesy of [Dr. Russel Taylor](https://www.cs.jhu.edu/~rht/Research.html#VISION), accessed July 7, 2025.\n",
    "\n",
    "\n",
    "In this regard, interventional medicine is treated, using engineering language, as a closed loop process. This basic process of \n",
    "1. Combining specific information about the patient with the physician's general knowledge to determine the patient's condition,\n",
    "1. Formulating a plan of action,\n",
    "1. Carrying out this plan, and\n",
    "1. Evaluating the results has existed since ancient times. \n",
    "\n",
    "Traditionally, these steps all have taken place in the physician's head: the ability of modern computer-based technology to assist humans in the processing and acting on complex information will profoundly enhance this process.\n",
    "\n",
    "## What is Computer Assisted Intervention (CAI)\n",
    "Computer Assisted Intervention (CAI) is a sub-discipline of computer-integrated interventional medicine, focusing on **surgical** interventions. CAI corresponds to the **CAM** of the computer-integrated interventional medicine.\n",
    "\n",
    "Interventional medicine typically takes place in three stages:\n",
    "\n",
    "1. **Planning**: For any patient, we need to\n",
    "   - Perform diagnosis: find out what is wrong. This is typically performed using aids from medical mechatronics (e.g. blood pressure monitor) and medical imaging (e.g. ultrasound and x-ray)\n",
    "   - Formulate a course of treatment: for example, if a patient has a tumour in the liver, should it be surgically removed, undergoing chemotherapy, or treated with thermal or chemical ablation?\n",
    "   - This **planning** stage corresponds to computer-aided design (CAD).\n",
    "1. **Execution**: Once the plan is formulated, how to make sure it was executed as planned? For example, if the course of treatment for a patient with liver tumour is thermal ablation, how do we place the ablation applicator at the intended location to ensure the complete tumor necrosis?\n",
    "   - This **Execution** stage, when assisted using computerized method, corresponds to computer-aided manufacturing (CAM).\n",
    "1. **Total Quality Management**: How do we know if what was planned and executed was effective? Past outcomes can be analyzed to provide insight for further surgery, thus the **quality control** is the feedback to this closed-loop process of CAI.\n",
    "\n",
    "## About this course\n",
    "For this course, we focus on the **execution** of the surgical plan in an interventional surgical suite. That is, we want to develop computerized techniques to make sure that surgical plans, defined by the interventionists (e.g. surgeons or interventional radiologists), are performed as intended. Our approach is to develop a **surgical navigational system**, e.g. **GPS for surgery**, to guide the execution of surgical maneuvers."
   ]
  }
 ],
 "metadata": {
  "language_info": {
   "name": "python"
  }
 },
 "nbformat": 4,
 "nbformat_minor": 5
}

{
 "cells": [
  {
   "cell_type": "markdown",
   "id": "7698bda3",
   "metadata": {},
   "source": [
    "# History of Image-Guided Interventions"
   ]
  },
  {
   "cell_type": "markdown",
   "id": "20976501",
   "metadata": {},
   "source": [
    "## What is in the name?\n",
    "\n",
    "In the current literature, the research field of computer-assisted interventions (CAI) is also know by a mix of overlapping names:\n",
    "- CAI - Computer Assisted Interventions\n",
    "- CAS - Computer Assisted Surgery\n",
    "- IGS - Image-Guided Surgery\n",
    "- IGT - Image-Guided Therapy\n",
    "- IGI - Image-Guided Interventions\n",
    "\n",
    "This paper {cite}`GGC+2020` attempts\n",
    "> To develop consensus definitions of image-guided surgery, computer-assisted surgery, hybrid operating room, and surgical navigation systems.\n",
    "\n",
    "It is not widely adopted, but worth a read.\n",
    "\n",
    "In the previous chapter, we already made the distinction between **surgery** and **Therapy**. In this chapter, we distinguish between **computer-assisted** and **image-guided** procedures using a historical context.\n",
    "\n",
    "## Resources\n",
    "For further reading, consulte the following\n"
   ]
  }
 ],
 "metadata": {
  "language_info": {
   "name": "python"
  }
 },
 "nbformat": 4,
 "nbformat_minor": 5
}

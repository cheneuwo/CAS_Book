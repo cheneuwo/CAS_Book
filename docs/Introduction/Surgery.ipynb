{
 "cells": [
  {
   "cell_type": "markdown",
   "id": "1e71612e",
   "metadata": {},
   "source": [
    "# Surgery\n",
    "\n",
    "Perhaps a philosophical discussion: in this course, we differentiate between **Surgery** and **Intervention**.\n",
    "\n",
    "## But what is Surgery?\n",
    "\n",
    "Accoring to Oxford English dictionary, the definition of the world [**Surgery**](https://www.oed.com/dictionary/surgery_n?tab=meaning_and_use#19777282) includes, among others:\n",
    "- The art or practice of treating wounds, fractured bones, and other conditions by manual operation or instrumental appliances; surgical treatment, and\n",
    "- Surgery of Access.\n",
    "\n",
    "Often, the word **surgery** is associated with surgical *incisions*. Take [hepatectomy](https://my.clevelandclinic.org/health/treatments/22930-hepatectomy-liver-resection) procedure as an example, possible surgical approaches include:\n",
    "\n",
    "> If you’re having open surgery, your surgeon will make one long incision across your abdomen to open your abdominal cavity. If you’re having laparoscopic surgery, your surgeon will make 4 to 6 “keyhole” incisions, which they’ll use to place the camera (laparoscope) and surgical instruments to do the operation."
   ]
  },
  {
   "cell_type": "markdown",
   "id": "9f592b9c",
   "metadata": {},
   "source": [
    "![](./../images/1-s2.0-S1878788611001445-fx3.jpg)\n",
    "citation {cite}`GG2011`.\n",
    "\n",
    "Here is my nifty citation {cite}`perez2011python`."
   ]
  }
 ],
 "metadata": {
  "language_info": {
   "name": "python"
  }
 },
 "nbformat": 4,
 "nbformat_minor": 5
}

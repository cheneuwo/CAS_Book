{
 "cells": [
  {
   "cell_type": "markdown",
   "id": "ee77cc4a",
   "metadata": {},
   "source": [
    "# Surgery\n",
    "\n",
    "Perhaps a philosophical discussion: in this course, we differentiate between **Surgery** and **Intervention**.\n",
    "\n",
    "## But what is Surgery?\n",
    "\n",
    "According to the Oxford English Dictionary, the definition of the word [**Surgery**](https://www.oed.com/dictionary/surgery_n?tab=meaning_and_use#19777282) includes, among others:\n",
    "- The art or practice of treating wounds, fractured bones, and other conditions by manual operation or instrumental appliances; surgical treatment, and\n",
    "- Surgery of Access.\n",
    "\n",
    "Often, the word **surgery** is associated with surgical *incisions*. Take the [hepatectomy](https://my.clevelandclinic.org/health/treatments/22930-hepatectomy-liver-resection) procedure as an example—possible surgical approaches include:\n",
    "\n",
    "> If you're having open surgery, your surgeon will make one long incision across your abdomen to open your abdominal cavity. If you're having laparoscopic surgery, your surgeon will make 4 to 6 \"keyhole\" incisions, which they'll use to place the camera (laparoscope) and surgical instruments to do the operation."
   ]
  },
  {
   "cell_type": "markdown",
   "id": "c55699fe",
   "metadata": {},
   "source": [
    "```{image} ./../images/1-s2.0-S1878788611001445-fx3.jpg\n",
    ":alt: Open Surgery\n",
    ":class: bg-primary mb-1\n",
    ":width: 400px\n",
    ":align: center\n",
    "```\n",
    "A depiction of open liver surgery with large incision, image courtesy of citation {cite}`GG2011`.\n",
    "\n",
    "```{image} ./../images/464_2022_9312_Fig9_HTML.webp\n",
    ":alt: Minimally Invasive Surgery\n",
    ":class: bg-primary mb-1\n",
    ":width: 400px\n",
    ":align: center\n",
    "```\n",
    "A depicture of minimally invasive surgery where surgical access is provided through trocar, image courtesy of citation {cite}`HXQ+2022`.\n"
   ]
  },
  {
   "cell_type": "markdown",
   "id": "de9f0ec3",
   "metadata": {},
   "source": [
    "That is, **surgery** is a means to provide **access** to the surgical target (e.g., tumour hidden beneath organ surface). On the other hand, **intervention** is the act of making the patient better, e.g., the act of removing a tumour via resection or via thermal ablation.\n",
    "\n",
    "In this manner, **surgery is, in fact, a side-effect of therapy!**"
   ]
  }
 ],
 "metadata": {
  "language_info": {
   "name": "python"
  }
 },
 "nbformat": 4,
 "nbformat_minor": 5
}

{
 "cells": [
  {
   "cell_type": "markdown",
   "id": "1e71612e",
   "metadata": {},
   "source": [
    "# Surgery\n",
    "\n",
    "One philosophical discussion \n",
    "# But what is Surgery?"
   ]
  }
 ],
 "metadata": {
  "language_info": {
   "name": "python"
  }
 },
 "nbformat": 4,
 "nbformat_minor": 5
}

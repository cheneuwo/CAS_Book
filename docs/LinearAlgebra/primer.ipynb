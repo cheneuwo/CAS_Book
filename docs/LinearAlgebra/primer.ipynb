{
 "cells": [
  {
   "cell_type": "markdown",
   "id": "30614b6c",
   "metadata": {},
   "source": [
    "# Math Primer"
   ]
  }
 ],
 "metadata": {
  "language_info": {
   "name": "python"
  }
 },
 "nbformat": 4,
 "nbformat_minor": 5
}
